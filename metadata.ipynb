{
 "cells": [
  {
   "cell_type": "markdown",
   "id": "b54373e2-aa00-4f81-9394-131ea7e5ff9f",
   "metadata": {
    "tags": []
   },
   "source": [
    "## Read meta datas "
   ]
  },
  {
   "cell_type": "code",
   "execution_count": 5,
   "id": "ce9df70e-21a5-45ee-9570-10d1fa9b656b",
   "metadata": {
    "tags": []
   },
   "outputs": [],
   "source": [
    "from exif import Image"
   ]
  },
  {
   "cell_type": "code",
   "execution_count": 50,
   "id": "16b9f9fe-68aa-4e51-9d45-7ead2a490316",
   "metadata": {
    "tags": []
   },
   "outputs": [
    {
     "data": {
      "text/plain": [
       "['model',\n",
       " 'software',\n",
       " 'orientation',\n",
       " 'datetime',\n",
       " 'y_and_c_positioning',\n",
       " '_exif_ifd_pointer',\n",
       " 'resolution_unit',\n",
       " '_gps_ifd_pointer',\n",
       " 'x_resolution',\n",
       " 'y_resolution',\n",
       " 'make',\n",
       " 'jpeg_interchange_format',\n",
       " 'jpeg_interchange_format_length',\n",
       " 'compression',\n",
       " 'photographic_sensitivity',\n",
       " 'exposure_program',\n",
       " 'f_number',\n",
       " 'exposure_time',\n",
       " 'sensing_method',\n",
       " 'subsec_time_digitized',\n",
       " 'subsec_time_original',\n",
       " 'subsec_time',\n",
       " 'focal_length',\n",
       " 'flash',\n",
       " 'metering_mode',\n",
       " 'scene_capture_type',\n",
       " '_interoperability_ifd_Pointer',\n",
       " 'focal_length_in_35mm_film',\n",
       " 'datetime_digitized',\n",
       " 'pixel_y_dimension',\n",
       " 'white_balance',\n",
       " 'datetime_original',\n",
       " 'brightness_value',\n",
       " 'pixel_x_dimension',\n",
       " 'exposure_mode',\n",
       " 'aperture_value',\n",
       " 'components_configuration',\n",
       " 'color_space',\n",
       " 'scene_type',\n",
       " 'shutter_speed_value',\n",
       " 'exif_version',\n",
       " 'flashpix_version']"
      ]
     },
     "execution_count": 50,
     "metadata": {},
     "output_type": "execute_result"
    }
   ],
   "source": [
    "with open('/home/aelion/devSpace/python_security/photos/2020/07/11/IMG_20200711_090914.jpg', 'rb') as image_file:\n",
    "    my_image = Image(image_file)\n",
    "\n",
    "my_image.has_exif # True\n",
    "my_image.list_all() # Affiche la liste des meta datas\n"
   ]
  },
  {
   "cell_type": "code",
   "execution_count": 55,
   "id": "9e79754f-8c14-4b39-9af5-c95409fbb216",
   "metadata": {
    "tags": []
   },
   "outputs": [
    {
     "data": {
      "text/plain": [
       "'2020:07:11 09:09:14'"
      ]
     },
     "execution_count": 55,
     "metadata": {},
     "output_type": "execute_result"
    }
   ],
   "source": [
    "my_image.datetime_original"
   ]
  },
  {
   "cell_type": "code",
   "execution_count": 57,
   "id": "7cc12a11-c4ce-408f-8f35-04ff5c3e00e7",
   "metadata": {
    "tags": []
   },
   "outputs": [
    {
     "data": {
      "text/plain": [
       "4.74"
      ]
     },
     "execution_count": 57,
     "metadata": {},
     "output_type": "execute_result"
    }
   ],
   "source": [
    "my_image.get('focal_length')"
   ]
  },
  {
   "cell_type": "code",
   "execution_count": null,
   "id": "cc1a0935-7a56-4ae2-9625-6cf5e8e1f6a9",
   "metadata": {},
   "outputs": [],
   "source": []
  }
 ],
 "metadata": {
  "kernelspec": {
   "display_name": "Python 3 (ipykernel)",
   "language": "python",
   "name": "python3"
  },
  "language_info": {
   "codemirror_mode": {
    "name": "ipython",
    "version": 3
   },
   "file_extension": ".py",
   "mimetype": "text/x-python",
   "name": "python",
   "nbconvert_exporter": "python",
   "pygments_lexer": "ipython3",
   "version": "3.11.7"
  }
 },
 "nbformat": 4,
 "nbformat_minor": 5
}
