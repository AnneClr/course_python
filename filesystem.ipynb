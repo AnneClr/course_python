{
 "cells": [
  {
   "cell_type": "code",
   "execution_count": 2,
   "id": "2f0dcff2-4ce7-4310-a3c3-986a4d329ed8",
   "metadata": {
    "tags": []
   },
   "outputs": [],
   "source": [
    "import csv\n",
    "import pandas as pd"
   ]
  },
  {
   "cell_type": "code",
   "execution_count": 3,
   "id": "fe28597a-0068-4e99-878f-fab963e98dbd",
   "metadata": {
    "tags": []
   },
   "outputs": [
    {
     "data": {
      "text/plain": [
       "<_io.TextIOWrapper name='/home/aelion/devSpace/python_security/data/cities.csv' mode='r' encoding='UTF-8'>"
      ]
     },
     "execution_count": 3,
     "metadata": {},
     "output_type": "execute_result"
    }
   ],
   "source": [
    "f = open('/home/aelion/devSpace/python_security/data/cities.csv')\n",
    "f\n",
    "# paramètre obligatoire = file\n",
    "# paramètres facultatif =\"quelque chose\" veut dire la valeur par défaut c'est ce qu'il y a entre \"\"\n",
    "# par défaut open lit des fichiers texte"
   ]
  },
  {
   "cell_type": "code",
   "execution_count": 4,
   "id": "95832d27-e49d-4c2b-b181-023f0565de18",
   "metadata": {
    "tags": []
   },
   "outputs": [
    {
     "data": {
      "text/plain": [
       "<_io.TextIOWrapper name='/home/aelion/devSpace/python_security/data/cities.csv' mode='r' encoding='UTF-8'>"
      ]
     },
     "execution_count": 4,
     "metadata": {},
     "output_type": "execute_result"
    }
   ],
   "source": [
    "f = open('/home/aelion/devSpace/python_security/data/cities.csv', encoding='UTF-8')\n",
    "f\n",
    "# il vaut mieux toujours donner en argument l'encodage"
   ]
  },
  {
   "cell_type": "code",
   "execution_count": 5,
   "id": "64ddb158-888f-4c23-a2f3-85c21beb897a",
   "metadata": {
    "tags": []
   },
   "outputs": [
    {
     "data": {
      "text/plain": [
       "'name,population,cp\\nPau,77000,64000\\nToulouse,477000,31000\\nNîmes,150000,30000\\nFoix,9706,09000'"
      ]
     },
     "execution_count": 5,
     "metadata": {},
     "output_type": "execute_result"
    }
   ],
   "source": [
    "f.read()\n",
    "# read as très utilisé pour les fichiers texte"
   ]
  },
  {
   "cell_type": "code",
   "execution_count": 6,
   "id": "83dde430-395c-4b21-a1c6-d407ebe51566",
   "metadata": {
    "tags": []
   },
   "outputs": [
    {
     "data": {
      "text/plain": [
       "''"
      ]
     },
     "execution_count": 6,
     "metadata": {},
     "output_type": "execute_result"
    }
   ],
   "source": [
    "f.read()"
   ]
  },
  {
   "cell_type": "code",
   "execution_count": 7,
   "id": "ac8416b0-7f15-47ef-b454-159180688be6",
   "metadata": {
    "tags": []
   },
   "outputs": [],
   "source": [
    "f.close()"
   ]
  },
  {
   "cell_type": "code",
   "execution_count": 8,
   "id": "01eb8be4-e5d8-4f70-b128-fdbc94065b10",
   "metadata": {
    "tags": []
   },
   "outputs": [
    {
     "data": {
      "text/plain": [
       "True"
      ]
     },
     "execution_count": 8,
     "metadata": {},
     "output_type": "execute_result"
    }
   ],
   "source": [
    "f.closed"
   ]
  },
  {
   "cell_type": "code",
   "execution_count": 9,
   "id": "68b3af52-506f-4e1d-acd6-669a2ceb6583",
   "metadata": {
    "tags": []
   },
   "outputs": [
    {
     "name": "stdout",
     "output_type": "stream",
     "text": [
      "name,population,cp\n",
      "\n",
      "Pau,77000,64000\n",
      "\n",
      "Toulouse,477000,31000\n",
      "\n",
      "Nîmes,150000,30000\n",
      "\n",
      "Foix,9706,09000\n"
     ]
    }
   ],
   "source": [
    "f = open('/home/aelion/devSpace/python_security/data/cities.csv', encoding='UTF-8')\n",
    "for line in f:\n",
    "    print(line)\n",
    "f.close()"
   ]
  },
  {
   "cell_type": "code",
   "execution_count": 10,
   "id": "b85df0e6-e6d5-4df4-800c-59a885729011",
   "metadata": {
    "tags": []
   },
   "outputs": [
    {
     "name": "stdout",
     "output_type": "stream",
     "text": [
      "name;population;cp\n",
      "\n",
      "Pau;77000;64000\n",
      "\n",
      "Toulouse;477000;31000\n",
      "\n",
      "Nîmes;150000;30000\n",
      "\n"
     ]
    }
   ],
   "source": [
    "f2 = open('/home/aelion/devSpace/python_security/data/cities_fr.csv', encoding='latin1')\n",
    "for line in f2:\n",
    "    print(line)\n",
    "f2.close()"
   ]
  },
  {
   "cell_type": "code",
   "execution_count": 11,
   "id": "1e3369f5-bb2e-4326-bebe-1bf7f7d40c64",
   "metadata": {
    "tags": []
   },
   "outputs": [
    {
     "name": "stdout",
     "output_type": "stream",
     "text": [
      "CP1252 : b'N\\xeemes'\n",
      "ISO-8859-1 : b'N\\xeemes'\n",
      "ISO-8859-15 : b'N\\xeemes'\n",
      "UTF-8 : b'N\\xc3\\xaemes'\n"
     ]
    }
   ],
   "source": [
    "# on demande à python de donner Nîmes dans différents encodages\n",
    "city = \"Nîmes\"\n",
    "for encoding in \"CP1252\", \"ISO-8859-1\", \"ISO-8859-15\", \"UTF-8\":\n",
    "    print(encoding, ':', city.encode(encoding))"
   ]
  },
  {
   "cell_type": "code",
   "execution_count": 12,
   "id": "ce2d758f-d876-42bf-8361-5e8d8dc5c2db",
   "metadata": {
    "tags": []
   },
   "outputs": [
    {
     "name": "stdout",
     "output_type": "stream",
     "text": [
      "CP1252 : b'\\x80'\n"
     ]
    },
    {
     "ename": "UnicodeEncodeError",
     "evalue": "'latin-1' codec can't encode character '\\u20ac' in position 0: ordinal not in range(256)",
     "output_type": "error",
     "traceback": [
      "\u001b[0;31m---------------------------------------------------------------------------\u001b[0m",
      "\u001b[0;31mUnicodeEncodeError\u001b[0m                        Traceback (most recent call last)",
      "Cell \u001b[0;32mIn[12], line 3\u001b[0m\n\u001b[1;32m      1\u001b[0m devise \u001b[38;5;241m=\u001b[39m \u001b[38;5;124m\"\u001b[39m\u001b[38;5;124m€\u001b[39m\u001b[38;5;124m\"\u001b[39m\n\u001b[1;32m      2\u001b[0m \u001b[38;5;28;01mfor\u001b[39;00m encoding \u001b[38;5;129;01min\u001b[39;00m \u001b[38;5;124m\"\u001b[39m\u001b[38;5;124mCP1252\u001b[39m\u001b[38;5;124m\"\u001b[39m, \u001b[38;5;124m\"\u001b[39m\u001b[38;5;124mISO-8859-1\u001b[39m\u001b[38;5;124m\"\u001b[39m, \u001b[38;5;124m\"\u001b[39m\u001b[38;5;124mISO-8859-15\u001b[39m\u001b[38;5;124m\"\u001b[39m, \u001b[38;5;124m\"\u001b[39m\u001b[38;5;124mUTF-8\u001b[39m\u001b[38;5;124m\"\u001b[39m:\n\u001b[0;32m----> 3\u001b[0m     \u001b[38;5;28mprint\u001b[39m(encoding, \u001b[38;5;124m'\u001b[39m\u001b[38;5;124m:\u001b[39m\u001b[38;5;124m'\u001b[39m, devise\u001b[38;5;241m.\u001b[39mencode(encoding))\n",
      "\u001b[0;31mUnicodeEncodeError\u001b[0m: 'latin-1' codec can't encode character '\\u20ac' in position 0: ordinal not in range(256)"
     ]
    }
   ],
   "source": [
    "devise = \"€\"\n",
    "for encoding in \"CP1252\", \"ISO-8859-1\", \"ISO-8859-15\", \"UTF-8\":\n",
    "    print(encoding, ':', devise.encode(encoding))"
   ]
  },
  {
   "cell_type": "code",
   "execution_count": null,
   "id": "3d647dd2-cb39-471f-955c-27b5a79b5415",
   "metadata": {
    "tags": []
   },
   "outputs": [],
   "source": [
    "# pour gérer les erreurs, on introduit try/except pour pouvoir continuer le programme même lorsqu'il y a un problème\n",
    "devise = \"€\"\n",
    "for encoding in \"CP1252\", \"ISO-8859-1\", \"ISO-8859-15\", \"UTF-8\":\n",
    "    try: \n",
    "        print(encoding, ':', devise.encode(encoding))\n",
    "    except UnicodeEncodeError:\n",
    "        print(f\"Can't encode {devise} in {encoding}\")"
   ]
  },
  {
   "cell_type": "code",
   "execution_count": null,
   "id": "6313c18f-196e-4ade-97bf-f706252372e8",
   "metadata": {
    "tags": []
   },
   "outputs": [],
   "source": [
    "tokyo = \"東京\"\n",
    "code = tokyo.encode('utf-8')\n",
    "code"
   ]
  },
  {
   "cell_type": "code",
   "execution_count": null,
   "id": "354669d4-1f43-486a-95f5-0348d127820d",
   "metadata": {
    "tags": []
   },
   "outputs": [],
   "source": [
    "code.decode('utf-8')"
   ]
  },
  {
   "cell_type": "markdown",
   "id": "cf7aed5f-3816-42be-857f-3d0be82da5b3",
   "metadata": {},
   "source": [
    "## Split Lines"
   ]
  },
  {
   "cell_type": "code",
   "execution_count": null,
   "id": "49005110-08bd-4f5a-b4b5-c85f767a0006",
   "metadata": {
    "tags": []
   },
   "outputs": [],
   "source": [
    "f2 = open('/home/aelion/devSpace/python_security/data/cities_fr.csv', encoding='CP1252')\n",
    "sep = \";\"\n",
    "for line in f2:\n",
    "    data = line.split(sep)\n",
    "    print(data)\n",
    "f2.close()\n",
    "\n",
    "# on a retiré les ;\n"
   ]
  },
  {
   "cell_type": "code",
   "execution_count": null,
   "id": "ff53d318-a501-44fa-a178-410d57a228db",
   "metadata": {
    "tags": []
   },
   "outputs": [],
   "source": [
    "# il faut faire en sorte de retirer la ligne d'entête\n",
    "f2 = open('/home/aelion/devSpace/python_security/data/cities_fr.csv', encoding='CP1252')\n",
    "sep = \";\"\n",
    "next(f2) # avec la fonction next() on dit d'itérer sur la ligne suivante pour retirer la ligne d'entête\n",
    "for line in f2:\n",
    "    data = line.split(sep)\n",
    "    print(data)\n",
    "f2.close()"
   ]
  },
  {
   "cell_type": "code",
   "execution_count": null,
   "id": "90d5576f-063c-4afb-b507-b265f7f01fc7",
   "metadata": {
    "tags": []
   },
   "outputs": [],
   "source": [
    "# strip permet de retirer du contenu\n",
    "# rstrip retire ce qui \"dépasse\" à droite => ici \\n\n",
    "f2 = open('/home/aelion/devSpace/python_security/data/cities_fr.csv', encoding='CP1252')\n",
    "sep = \";\"\n",
    "next(f2) \n",
    "for line in f2:\n",
    "    data = line.rstrip().split(sep) # liste de string\n",
    "    print(data)\n",
    "f2.close()"
   ]
  },
  {
   "cell_type": "code",
   "execution_count": null,
   "id": "7d2e31db-2547-406b-b861-6fdabb6bd08d",
   "metadata": {
    "tags": []
   },
   "outputs": [],
   "source": [
    "# on convertit le code postal en int\n",
    "f2 = open('/home/aelion/devSpace/python_security/data/cities_fr.csv', encoding='CP1252')\n",
    "sep = \";\"\n",
    "next(f2) \n",
    "for line in f2:\n",
    "    data = line.rstrip().split(sep) # liste de string\n",
    "    data[1]= int(data[1])\n",
    "    print(data)\n",
    "f2.close()"
   ]
  },
  {
   "cell_type": "code",
   "execution_count": null,
   "id": "1dfee620-1bc1-4794-8613-efb9b4157837",
   "metadata": {
    "tags": []
   },
   "outputs": [],
   "source": [
    "# effet de bord avec print(), c'est à dire que data = la dernière valeur appelée\n",
    "f2 = open('/home/aelion/devSpace/python_security/data/cities_fr.csv', encoding='CP1252')\n",
    "sep = \";\"\n",
    "next(f2) \n",
    "cities =[]\n",
    "for line in f2:\n",
    "    data = line.rstrip().split(sep) # liste de string\n",
    "    data[1]= int(data[1])\n",
    "    cities.append(data)\n",
    "f2.close()\n",
    "cities"
   ]
  },
  {
   "cell_type": "markdown",
   "id": "a9316f66-4ea0-4acd-b2b4-739c3512b940",
   "metadata": {},
   "source": [
    "## Read CSV with Pandas"
   ]
  },
  {
   "cell_type": "code",
   "execution_count": null,
   "id": "579ff503-2b2a-44ce-915d-7a26cbdfa030",
   "metadata": {
    "tags": []
   },
   "outputs": [],
   "source": [
    "df_cities = pd.read_csv('/home/aelion/devSpace/python_security/data/cities.csv', dtype= {'cp': 'str'}) # par défaut en utf-8\n",
    "df_cities\n",
    "\n",
    "# dtype permet de dire que la colonne cp est de type string ce qui permet d'avoir par exemple un code postal 09000 sinon on a 9000"
   ]
  },
  {
   "cell_type": "code",
   "execution_count": null,
   "id": "68c0d414-6c3e-4489-980a-37c287540482",
   "metadata": {
    "tags": []
   },
   "outputs": [],
   "source": [
    "df_cities.population\n",
    "# population = attribut dynamique"
   ]
  },
  {
   "cell_type": "code",
   "execution_count": null,
   "id": "1081c5b3-41a4-4bff-9419-477f50a7fc5e",
   "metadata": {
    "tags": []
   },
   "outputs": [],
   "source": [
    "df_cities['population']\n",
    "# on va chercher la colonne population dans le dictionnaire avec les []"
   ]
  },
  {
   "cell_type": "code",
   "execution_count": null,
   "id": "962e3af2-ce7d-455a-b452-22bfc5e40ed0",
   "metadata": {
    "tags": []
   },
   "outputs": [],
   "source": [
    "# Calcul de la somme de population | avec sum() natif de Python\n",
    "sum(df_cities.population)"
   ]
  },
  {
   "cell_type": "code",
   "execution_count": null,
   "id": "2ca3d76d-fca9-40cc-99b9-6ebf9b7568d6",
   "metadata": {
    "tags": []
   },
   "outputs": [],
   "source": [
    "# Calcul de la somme de population avec Pandas | ignore les données manquantes\n",
    "df_cities.population.sum()"
   ]
  },
  {
   "cell_type": "code",
   "execution_count": null,
   "id": "3249b3b2-852a-4f14-a44a-7a41ce575d3a",
   "metadata": {
    "tags": []
   },
   "outputs": [],
   "source": [
    "# Afficher le minimum\n",
    "population_min = df_cities.population.min()\n",
    "population_min"
   ]
  },
  {
   "cell_type": "code",
   "execution_count": null,
   "id": "b9758c0f-593e-4467-93f1-84d86630803b",
   "metadata": {
    "tags": []
   },
   "outputs": [],
   "source": [
    "# Afficher le max\n",
    "population_max = df_cities.population.max()\n",
    "population_max"
   ]
  },
  {
   "cell_type": "code",
   "execution_count": null,
   "id": "6b365ef3-467b-43c6-bee4-d7f1b91f6e2f",
   "metadata": {
    "tags": []
   },
   "outputs": [],
   "source": [
    "# Afficher la moyenne\n",
    "population_average = df_cities.population.mean()\n",
    "population_average"
   ]
  },
  {
   "cell_type": "code",
   "execution_count": null,
   "id": "e6698fb4-ec46-4085-923c-26fc96811ec6",
   "metadata": {
    "tags": []
   },
   "outputs": [],
   "source": [
    "# Transformer le résultat en format json\n",
    "df_cities.to_json('/home/aelion/devSpace/python_security/data/cities.json', orient='records')"
   ]
  },
  {
   "cell_type": "code",
   "execution_count": null,
   "id": "599ee45e-1664-47a6-9899-01e1bad25e02",
   "metadata": {
    "tags": []
   },
   "outputs": [],
   "source": [
    "# Affichage d'un tableau de données en 2D avec .DataFrame de Pandas\n",
    "df_cities=pd.DataFrame(cities, columns=header)\n",
    "df_cities"
   ]
  },
  {
   "cell_type": "markdown",
   "id": "8ee7c06e-4685-47de-a05f-cf40240477ee",
   "metadata": {},
   "source": [
    "## Read csv with module csv"
   ]
  },
  {
   "cell_type": "code",
   "execution_count": 28,
   "id": "d4c39317-8988-486d-a5da-7c3402d89f6b",
   "metadata": {
    "tags": []
   },
   "outputs": [
    {
     "name": "stdout",
     "output_type": "stream",
     "text": [
      "Header :  ['name', 'population', 'cp']\n",
      "Row :  ('Pau', 77000, '64000')\n",
      "Row :  ('Toulouse', 477000, '31000')\n",
      "Row :  ('Nîmes', 150000, '30000')\n",
      "Row :  ('Foix', 9706, '09000')\n"
     ]
    },
    {
     "data": {
      "text/plain": [
       "[('Pau', 77000, '64000'),\n",
       " ('Toulouse', 477000, '31000'),\n",
       " ('Nîmes', 150000, '30000'),\n",
       " ('Foix', 9706, '09000')]"
      ]
     },
     "execution_count": 28,
     "metadata": {},
     "output_type": "execute_result"
    }
   ],
   "source": [
    "f = open('/home/aelion/devSpace/python_security/data/cities.csv', newline='', encoding='utf-8')\n",
    "csv_reader = csv.reader(f, delimiter=\",\")\n",
    "header = next(csv_reader)\n",
    "print(\"Header : \", header)\n",
    "cities =[]\n",
    "for name, population, cp in csv_reader:\n",
    "    data_converted = (name, int(population), cp)\n",
    "    cities.append(data_converted)\n",
    "    print(\"Row : \", data_converted)\n",
    "f.close()\n",
    "cities"
   ]
  },
  {
   "cell_type": "markdown",
   "id": "592d3a1e-65e6-48ff-a673-cf263892423c",
   "metadata": {},
   "source": [
    "## Manipulations de données de data.gouv"
   ]
  },
  {
   "cell_type": "code",
   "execution_count": 30,
   "id": "48ad0558-d19f-471a-bf88-e723f57064a3",
   "metadata": {
    "tags": []
   },
   "outputs": [
    {
     "data": {
      "text/html": [
       "<div>\n",
       "<style scoped>\n",
       "    .dataframe tbody tr th:only-of-type {\n",
       "        vertical-align: middle;\n",
       "    }\n",
       "\n",
       "    .dataframe tbody tr th {\n",
       "        vertical-align: top;\n",
       "    }\n",
       "\n",
       "    .dataframe thead th {\n",
       "        text-align: right;\n",
       "    }\n",
       "</style>\n",
       "<table border=\"1\" class=\"dataframe\">\n",
       "  <thead>\n",
       "    <tr style=\"text-align: right;\">\n",
       "      <th></th>\n",
       "      <th>insee_code</th>\n",
       "      <th>city_code</th>\n",
       "      <th>zip_code</th>\n",
       "      <th>label</th>\n",
       "      <th>latitude</th>\n",
       "      <th>longitude</th>\n",
       "      <th>department_name</th>\n",
       "      <th>department_number</th>\n",
       "      <th>region_name</th>\n",
       "      <th>region_geojson_name</th>\n",
       "    </tr>\n",
       "  </thead>\n",
       "  <tbody>\n",
       "    <tr>\n",
       "      <th>0</th>\n",
       "      <td>25620</td>\n",
       "      <td>ville du pont</td>\n",
       "      <td>25650</td>\n",
       "      <td>ville du pont</td>\n",
       "      <td>46.999873</td>\n",
       "      <td>6.498147</td>\n",
       "      <td>doubs</td>\n",
       "      <td>25</td>\n",
       "      <td>bourgogne-franche-comté</td>\n",
       "      <td>Bourgogne-Franche-Comté</td>\n",
       "    </tr>\n",
       "    <tr>\n",
       "      <th>1</th>\n",
       "      <td>25624</td>\n",
       "      <td>villers grelot</td>\n",
       "      <td>25640</td>\n",
       "      <td>villers grelot</td>\n",
       "      <td>47.361512</td>\n",
       "      <td>6.235167</td>\n",
       "      <td>doubs</td>\n",
       "      <td>25</td>\n",
       "      <td>bourgogne-franche-comté</td>\n",
       "      <td>Bourgogne-Franche-Comté</td>\n",
       "    </tr>\n",
       "    <tr>\n",
       "      <th>2</th>\n",
       "      <td>25615</td>\n",
       "      <td>villars les blamont</td>\n",
       "      <td>25310</td>\n",
       "      <td>villars les blamont</td>\n",
       "      <td>47.368384</td>\n",
       "      <td>6.871415</td>\n",
       "      <td>doubs</td>\n",
       "      <td>25</td>\n",
       "      <td>bourgogne-franche-comté</td>\n",
       "      <td>Bourgogne-Franche-Comté</td>\n",
       "    </tr>\n",
       "    <tr>\n",
       "      <th>3</th>\n",
       "      <td>25619</td>\n",
       "      <td>les villedieu</td>\n",
       "      <td>25240</td>\n",
       "      <td>les villedieu</td>\n",
       "      <td>46.713906</td>\n",
       "      <td>6.265831</td>\n",
       "      <td>doubs</td>\n",
       "      <td>25</td>\n",
       "      <td>bourgogne-franche-comté</td>\n",
       "      <td>Bourgogne-Franche-Comté</td>\n",
       "    </tr>\n",
       "    <tr>\n",
       "      <th>4</th>\n",
       "      <td>25622</td>\n",
       "      <td>villers buzon</td>\n",
       "      <td>25170</td>\n",
       "      <td>villers buzon</td>\n",
       "      <td>47.228558</td>\n",
       "      <td>5.852187</td>\n",
       "      <td>doubs</td>\n",
       "      <td>25</td>\n",
       "      <td>bourgogne-franche-comté</td>\n",
       "      <td>Bourgogne-Franche-Comté</td>\n",
       "    </tr>\n",
       "    <tr>\n",
       "      <th>...</th>\n",
       "      <td>...</td>\n",
       "      <td>...</td>\n",
       "      <td>...</td>\n",
       "      <td>...</td>\n",
       "      <td>...</td>\n",
       "      <td>...</td>\n",
       "      <td>...</td>\n",
       "      <td>...</td>\n",
       "      <td>...</td>\n",
       "      <td>...</td>\n",
       "    </tr>\n",
       "    <tr>\n",
       "      <th>39140</th>\n",
       "      <td>98829</td>\n",
       "      <td>thio</td>\n",
       "      <td>98829</td>\n",
       "      <td>thio</td>\n",
       "      <td>NaN</td>\n",
       "      <td>NaN</td>\n",
       "      <td>nouvelle-calédonie</td>\n",
       "      <td>988</td>\n",
       "      <td>nouvelle-calédonie</td>\n",
       "      <td>Nouvelle Calédonie</td>\n",
       "    </tr>\n",
       "    <tr>\n",
       "      <th>39141</th>\n",
       "      <td>98831</td>\n",
       "      <td>voh</td>\n",
       "      <td>98833</td>\n",
       "      <td>voh</td>\n",
       "      <td>NaN</td>\n",
       "      <td>NaN</td>\n",
       "      <td>nouvelle-calédonie</td>\n",
       "      <td>988</td>\n",
       "      <td>nouvelle-calédonie</td>\n",
       "      <td>Nouvelle Calédonie</td>\n",
       "    </tr>\n",
       "    <tr>\n",
       "      <th>39142</th>\n",
       "      <td>98832</td>\n",
       "      <td>yate</td>\n",
       "      <td>98834</td>\n",
       "      <td>yate</td>\n",
       "      <td>NaN</td>\n",
       "      <td>NaN</td>\n",
       "      <td>nouvelle-calédonie</td>\n",
       "      <td>988</td>\n",
       "      <td>nouvelle-calédonie</td>\n",
       "      <td>Nouvelle Calédonie</td>\n",
       "    </tr>\n",
       "    <tr>\n",
       "      <th>39143</th>\n",
       "      <td>98612</td>\n",
       "      <td>sigave</td>\n",
       "      <td>98620</td>\n",
       "      <td>sigave</td>\n",
       "      <td>-14.270411</td>\n",
       "      <td>-178.155263</td>\n",
       "      <td>wallis-et-futuna</td>\n",
       "      <td>986</td>\n",
       "      <td>wallis-et-futuna</td>\n",
       "      <td>Wallis-et-Futuna</td>\n",
       "    </tr>\n",
       "    <tr>\n",
       "      <th>39144</th>\n",
       "      <td>98613</td>\n",
       "      <td>uvea</td>\n",
       "      <td>98600</td>\n",
       "      <td>uvea</td>\n",
       "      <td>-13.281863</td>\n",
       "      <td>-176.161928</td>\n",
       "      <td>wallis-et-futuna</td>\n",
       "      <td>986</td>\n",
       "      <td>wallis-et-futuna</td>\n",
       "      <td>Wallis-et-Futuna</td>\n",
       "    </tr>\n",
       "  </tbody>\n",
       "</table>\n",
       "<p>39145 rows × 10 columns</p>\n",
       "</div>"
      ],
      "text/plain": [
       "      insee_code            city_code  zip_code                label  \\\n",
       "0          25620        ville du pont     25650        ville du pont   \n",
       "1          25624       villers grelot     25640       villers grelot   \n",
       "2          25615  villars les blamont     25310  villars les blamont   \n",
       "3          25619        les villedieu     25240        les villedieu   \n",
       "4          25622        villers buzon     25170        villers buzon   \n",
       "...          ...                  ...       ...                  ...   \n",
       "39140      98829                 thio     98829                 thio   \n",
       "39141      98831                  voh     98833                  voh   \n",
       "39142      98832                 yate     98834                 yate   \n",
       "39143      98612               sigave     98620               sigave   \n",
       "39144      98613                 uvea     98600                 uvea   \n",
       "\n",
       "        latitude   longitude     department_name department_number  \\\n",
       "0      46.999873    6.498147               doubs                25   \n",
       "1      47.361512    6.235167               doubs                25   \n",
       "2      47.368384    6.871415               doubs                25   \n",
       "3      46.713906    6.265831               doubs                25   \n",
       "4      47.228558    5.852187               doubs                25   \n",
       "...          ...         ...                 ...               ...   \n",
       "39140        NaN         NaN  nouvelle-calédonie               988   \n",
       "39141        NaN         NaN  nouvelle-calédonie               988   \n",
       "39142        NaN         NaN  nouvelle-calédonie               988   \n",
       "39143 -14.270411 -178.155263    wallis-et-futuna               986   \n",
       "39144 -13.281863 -176.161928    wallis-et-futuna               986   \n",
       "\n",
       "                   region_name      region_geojson_name  \n",
       "0      bourgogne-franche-comté  Bourgogne-Franche-Comté  \n",
       "1      bourgogne-franche-comté  Bourgogne-Franche-Comté  \n",
       "2      bourgogne-franche-comté  Bourgogne-Franche-Comté  \n",
       "3      bourgogne-franche-comté  Bourgogne-Franche-Comté  \n",
       "4      bourgogne-franche-comté  Bourgogne-Franche-Comté  \n",
       "...                        ...                      ...  \n",
       "39140       nouvelle-calédonie       Nouvelle Calédonie  \n",
       "39141       nouvelle-calédonie       Nouvelle Calédonie  \n",
       "39142       nouvelle-calédonie       Nouvelle Calédonie  \n",
       "39143         wallis-et-futuna         Wallis-et-Futuna  \n",
       "39144         wallis-et-futuna         Wallis-et-Futuna  \n",
       "\n",
       "[39145 rows x 10 columns]"
      ]
     },
     "execution_count": 30,
     "metadata": {},
     "output_type": "execute_result"
    }
   ],
   "source": [
    "df_cities = pd.read_csv('/home/aelion/devSpace/python_security/data/french_cities.csv', dtype= {'cp': 'str'})\n",
    "df_cities"
   ]
  },
  {
   "cell_type": "code",
   "execution_count": 32,
   "id": "654c9285-c1bd-4abb-9541-82b58cb93168",
   "metadata": {
    "tags": []
   },
   "outputs": [
    {
     "data": {
      "text/html": [
       "<div>\n",
       "<style scoped>\n",
       "    .dataframe tbody tr th:only-of-type {\n",
       "        vertical-align: middle;\n",
       "    }\n",
       "\n",
       "    .dataframe tbody tr th {\n",
       "        vertical-align: top;\n",
       "    }\n",
       "\n",
       "    .dataframe thead th {\n",
       "        text-align: right;\n",
       "    }\n",
       "</style>\n",
       "<table border=\"1\" class=\"dataframe\">\n",
       "  <thead>\n",
       "    <tr style=\"text-align: right;\">\n",
       "      <th></th>\n",
       "      <th>insee_code</th>\n",
       "      <th>city_code</th>\n",
       "      <th>zip_code</th>\n",
       "      <th>label</th>\n",
       "      <th>latitude</th>\n",
       "      <th>longitude</th>\n",
       "      <th>department_name</th>\n",
       "      <th>department_number</th>\n",
       "      <th>region_name</th>\n",
       "      <th>region_geojson_name</th>\n",
       "    </tr>\n",
       "  </thead>\n",
       "  <tbody>\n",
       "    <tr>\n",
       "      <th>3237</th>\n",
       "      <td>70450</td>\n",
       "      <td>la rochelle</td>\n",
       "      <td>70120</td>\n",
       "      <td>la rochelle</td>\n",
       "      <td>47.751841</td>\n",
       "      <td>5.725169</td>\n",
       "      <td>haute-saône</td>\n",
       "      <td>70</td>\n",
       "      <td>bourgogne-franche-comté</td>\n",
       "      <td>Bourgogne-Franche-Comté</td>\n",
       "    </tr>\n",
       "    <tr>\n",
       "      <th>15887</th>\n",
       "      <td>17300</td>\n",
       "      <td>la rochelle</td>\n",
       "      <td>17000</td>\n",
       "      <td>la rochelle</td>\n",
       "      <td>46.162421</td>\n",
       "      <td>-1.173479</td>\n",
       "      <td>charente-maritime</td>\n",
       "      <td>17</td>\n",
       "      <td>nouvelle-aquitaine</td>\n",
       "      <td>Nouvelle-Aquitaine</td>\n",
       "    </tr>\n",
       "    <tr>\n",
       "      <th>16249</th>\n",
       "      <td>17300</td>\n",
       "      <td>la rochelle</td>\n",
       "      <td>17000</td>\n",
       "      <td>la rochelle</td>\n",
       "      <td>46.162421</td>\n",
       "      <td>-1.173479</td>\n",
       "      <td>charente-maritime</td>\n",
       "      <td>17</td>\n",
       "      <td>nouvelle-aquitaine</td>\n",
       "      <td>Nouvelle-Aquitaine</td>\n",
       "    </tr>\n",
       "    <tr>\n",
       "      <th>17468</th>\n",
       "      <td>17300</td>\n",
       "      <td>la rochelle</td>\n",
       "      <td>17000</td>\n",
       "      <td>la rochelle</td>\n",
       "      <td>46.162421</td>\n",
       "      <td>-1.173479</td>\n",
       "      <td>charente-maritime</td>\n",
       "      <td>17</td>\n",
       "      <td>nouvelle-aquitaine</td>\n",
       "      <td>Nouvelle-Aquitaine</td>\n",
       "    </tr>\n",
       "  </tbody>\n",
       "</table>\n",
       "</div>"
      ],
      "text/plain": [
       "      insee_code    city_code  zip_code        label   latitude  longitude  \\\n",
       "3237       70450  la rochelle     70120  la rochelle  47.751841   5.725169   \n",
       "15887      17300  la rochelle     17000  la rochelle  46.162421  -1.173479   \n",
       "16249      17300  la rochelle     17000  la rochelle  46.162421  -1.173479   \n",
       "17468      17300  la rochelle     17000  la rochelle  46.162421  -1.173479   \n",
       "\n",
       "         department_name department_number              region_name  \\\n",
       "3237         haute-saône                70  bourgogne-franche-comté   \n",
       "15887  charente-maritime                17       nouvelle-aquitaine   \n",
       "16249  charente-maritime                17       nouvelle-aquitaine   \n",
       "17468  charente-maritime                17       nouvelle-aquitaine   \n",
       "\n",
       "           region_geojson_name  \n",
       "3237   Bourgogne-Franche-Comté  \n",
       "15887       Nouvelle-Aquitaine  \n",
       "16249       Nouvelle-Aquitaine  \n",
       "17468       Nouvelle-Aquitaine  "
      ]
     },
     "execution_count": 32,
     "metadata": {},
     "output_type": "execute_result"
    }
   ],
   "source": [
    "df_cities.loc[df_cities.label.str.match('la rochelle')]\n"
   ]
  },
  {
   "cell_type": "code",
   "execution_count": 40,
   "id": "8312516d-50e6-457e-9041-b367befbd9a4",
   "metadata": {},
   "outputs": [
    {
     "data": {
      "text/html": [
       "<div>\n",
       "<style scoped>\n",
       "    .dataframe tbody tr th:only-of-type {\n",
       "        vertical-align: middle;\n",
       "    }\n",
       "\n",
       "    .dataframe tbody tr th {\n",
       "        vertical-align: top;\n",
       "    }\n",
       "\n",
       "    .dataframe thead th {\n",
       "        text-align: right;\n",
       "    }\n",
       "</style>\n",
       "<table border=\"1\" class=\"dataframe\">\n",
       "  <thead>\n",
       "    <tr style=\"text-align: right;\">\n",
       "      <th></th>\n",
       "      <th>insee_code</th>\n",
       "      <th>city_code</th>\n",
       "      <th>zip_code</th>\n",
       "      <th>label</th>\n",
       "      <th>latitude</th>\n",
       "      <th>longitude</th>\n",
       "      <th>department_name</th>\n",
       "      <th>department_number</th>\n",
       "      <th>region_name</th>\n",
       "      <th>region_geojson_name</th>\n",
       "    </tr>\n",
       "  </thead>\n",
       "  <tbody>\n",
       "    <tr>\n",
       "      <th>37822</th>\n",
       "      <td>92064</td>\n",
       "      <td>st cloud</td>\n",
       "      <td>92210</td>\n",
       "      <td>st cloud</td>\n",
       "      <td>48.842563</td>\n",
       "      <td>2.208696</td>\n",
       "      <td>hauts-de-seine</td>\n",
       "      <td>92</td>\n",
       "      <td>île-de-france</td>\n",
       "      <td>Île-de-France</td>\n",
       "    </tr>\n",
       "  </tbody>\n",
       "</table>\n",
       "</div>"
      ],
      "text/plain": [
       "      insee_code city_code  zip_code     label   latitude  longitude  \\\n",
       "37822      92064  st cloud     92210  st cloud  48.842563   2.208696   \n",
       "\n",
       "      department_name department_number    region_name region_geojson_name  \n",
       "37822  hauts-de-seine                92  île-de-france       Île-de-France  "
      ]
     },
     "execution_count": 40,
     "metadata": {},
     "output_type": "execute_result"
    }
   ],
   "source": [
    "df_cities.loc[df_cities.label.str.match('st cloud')]"
   ]
  },
  {
   "cell_type": "code",
   "execution_count": null,
   "id": "f947e559-6117-446e-b38b-de2bef9c5ab2",
   "metadata": {},
   "outputs": [],
   "source": []
  }
 ],
 "metadata": {
  "kernelspec": {
   "display_name": "Python 3 (ipykernel)",
   "language": "python",
   "name": "python3"
  },
  "language_info": {
   "codemirror_mode": {
    "name": "ipython",
    "version": 3
   },
   "file_extension": ".py",
   "mimetype": "text/x-python",
   "name": "python",
   "nbconvert_exporter": "python",
   "pygments_lexer": "ipython3",
   "version": "3.11.7"
  }
 },
 "nbformat": 4,
 "nbformat_minor": 5
}
