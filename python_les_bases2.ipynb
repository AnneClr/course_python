{
 "cells": [
  {
   "cell_type": "code",
   "execution_count": 1,
   "id": "ca57a768-da6b-4621-b921-83ac6c1e2664",
   "metadata": {
    "tags": []
   },
   "outputs": [],
   "source": [
    "import re"
   ]
  },
  {
   "cell_type": "code",
   "execution_count": 2,
   "id": "23cb3b46-c2be-405e-9202-9d7d730c75a0",
   "metadata": {
    "tags": []
   },
   "outputs": [],
   "source": [
    "list_cities = [\n",
    "    \"Toulouse\",\n",
    "    \"Paris\",\n",
    "    \"New York\",\n",
    "]\n",
    "\n",
    "tuple_city = \"Toulouse\", \"31000\", 477000\n",
    "\n",
    "dict_cities = {\n",
    "    \"name\": \"Toulouse\",\n",
    "    \"zipcode\": \"31000\",\n",
    "    \"population\": 477000,\n",
    "}\n"
   ]
  },
  {
   "cell_type": "code",
   "execution_count": 3,
   "id": "97b4d655-213a-4fe1-a8fe-0f7bcd1aec0a",
   "metadata": {
    "tags": []
   },
   "outputs": [
    {
     "name": "stdout",
     "output_type": "stream",
     "text": [
      "['Toulouse', 'Paris', 'New York']\n",
      "\t- length: 3\n",
      "\n",
      "('Toulouse', '31000', 477000)\n",
      "\t- length: 3\n",
      "\n",
      "{'name': 'Toulouse', 'zipcode': '31000', 'population': 477000}\n",
      "\t- length: 3\n",
      "\n"
     ]
    }
   ],
   "source": [
    "for o in list_cities, tuple_city, dict_cities:\n",
    "    print(o)\n",
    "    print(\"\\t- length:\", len(o))\n",
    "    print()    "
   ]
  },
  {
   "cell_type": "code",
   "execution_count": 4,
   "id": "1956bc68-0704-4407-a5ce-e32df8d2f996",
   "metadata": {
    "tags": []
   },
   "outputs": [
    {
     "data": {
      "text/plain": [
       "'Paris'"
      ]
     },
     "execution_count": 4,
     "metadata": {},
     "output_type": "execute_result"
    }
   ],
   "source": [
    "list_cities[1]"
   ]
  },
  {
   "cell_type": "code",
   "execution_count": 5,
   "id": "ad7f1a94-5b9a-4550-80f8-0c72aa182485",
   "metadata": {
    "tags": []
   },
   "outputs": [
    {
     "data": {
      "text/plain": [
       "\u001b[0;31mSignature:\u001b[0m \u001b[0mlist_cities\u001b[0m\u001b[0;34m.\u001b[0m\u001b[0mappend\u001b[0m\u001b[0;34m(\u001b[0m\u001b[0mobject\u001b[0m\u001b[0;34m,\u001b[0m \u001b[0;34m/\u001b[0m\u001b[0;34m)\u001b[0m\u001b[0;34m\u001b[0m\u001b[0;34m\u001b[0m\u001b[0m\n",
       "\u001b[0;31mDocstring:\u001b[0m Append object to the end of the list.\n",
       "\u001b[0;31mType:\u001b[0m      builtin_function_or_method"
      ]
     },
     "metadata": {},
     "output_type": "display_data"
    }
   ],
   "source": [
    "list_cities.append?"
   ]
  },
  {
   "cell_type": "code",
   "execution_count": null,
   "id": "cd033201-9d5f-4602-b206-15baa26d9720",
   "metadata": {},
   "outputs": [],
   "source": []
  },
  {
   "cell_type": "code",
   "execution_count": 6,
   "id": "4a3779c5-9e16-4f74-b6ea-d31499cfc90f",
   "metadata": {
    "tags": []
   },
   "outputs": [],
   "source": [
    "list_cities.append(\"Séoul\")"
   ]
  },
  {
   "cell_type": "code",
   "execution_count": 7,
   "id": "a22f5d93-b775-469d-9c6f-2af0f5b26cb7",
   "metadata": {
    "tags": []
   },
   "outputs": [],
   "source": [
    "list_cities.extend([\"Nantes\", \"La Rochelle\"])"
   ]
  },
  {
   "cell_type": "code",
   "execution_count": 8,
   "id": "fc4dca82-a226-4dfc-a676-4a074d39c03e",
   "metadata": {
    "tags": []
   },
   "outputs": [
    {
     "data": {
      "text/plain": [
       "[(0, 'Toulouse'),\n",
       " (1, 'Paris'),\n",
       " (2, 'New York'),\n",
       " (3, 'Séoul'),\n",
       " (4, 'Nantes'),\n",
       " (5, 'La Rochelle')]"
      ]
     },
     "execution_count": 8,
     "metadata": {},
     "output_type": "execute_result"
    }
   ],
   "source": [
    "list(enumerate(list_cities))\n",
    "# génère des tuples\n",
    "# à partir de 0 "
   ]
  },
  {
   "cell_type": "code",
   "execution_count": 9,
   "id": "77f04552-719b-4431-901a-f70edaba0eaf",
   "metadata": {
    "tags": []
   },
   "outputs": [
    {
     "name": "stdout",
     "output_type": "stream",
     "text": [
      "('sud-ouest', 'Toulouse')\n",
      "('nord', 'Lille')\n",
      "\n",
      "Toulouse : 477000\n",
      "Paris : 2161000\n",
      "New York : 8343000\n"
     ]
    }
   ],
   "source": [
    "for item in zip([\"sud-ouest\", \"nord\"], [\"Toulouse\", \"Lille\"]):\n",
    "    print(item)\n",
    "# on associe 2 objets à position équivalente\n",
    "print()\n",
    "list_populations = (477000, 2161000,8343000) \n",
    "for city, population in zip(list_cities, list_populations):\n",
    "    print(f\"{city} : {population}\")"
   ]
  },
  {
   "cell_type": "code",
   "execution_count": 10,
   "id": "e317fb38-15d1-4086-b101-ea47733b4f35",
   "metadata": {
    "tags": []
   },
   "outputs": [
    {
     "data": {
      "text/plain": [
       "[(1, 'Toulouse'),\n",
       " (2, 'Paris'),\n",
       " (3, 'New York'),\n",
       " (4, 'Séoul'),\n",
       " (5, 'Nantes'),\n",
       " (6, 'La Rochelle')]"
      ]
     },
     "execution_count": 10,
     "metadata": {},
     "output_type": "execute_result"
    }
   ],
   "source": [
    "list(enumerate(list_cities, 1))\n",
    "# génère des tuples\n",
    "# à partir de 1 en lui faisant passer le paramètre "
   ]
  },
  {
   "cell_type": "code",
   "execution_count": 11,
   "id": "84e42b02-a9a4-4fd5-ac6f-c3b669e18348",
   "metadata": {
    "tags": []
   },
   "outputs": [
    {
     "name": "stdout",
     "output_type": "stream",
     "text": [
      "1 - Toulouse\n",
      "2 - Paris\n",
      "3 - New York\n",
      "4 - Séoul\n",
      "5 - Nantes\n",
      "6 - La Rochelle\n"
     ]
    }
   ],
   "source": [
    "for i, city in enumerate(list_cities, 1):\n",
    "    print(f\"{i} - {city}\")"
   ]
  },
  {
   "cell_type": "code",
   "execution_count": 12,
   "id": "9ede8ea1-53b3-407f-9f72-a791670559cf",
   "metadata": {
    "tags": []
   },
   "outputs": [
    {
     "name": "stdout",
     "output_type": "stream",
     "text": [
      "43\n"
     ]
    }
   ],
   "source": [
    "# number of characters to write all cities\n",
    "\n",
    "total_letters = 0\n",
    "for city in list_cities:\n",
    "    total_letters += len(city)\n",
    "print(total_letters)"
   ]
  },
  {
   "cell_type": "code",
   "execution_count": 13,
   "id": "3381a75e-e9ca-4eb3-9724-ddd5ed12c39b",
   "metadata": {
    "tags": []
   },
   "outputs": [
    {
     "data": {
      "text/plain": [
       "43"
      ]
     },
     "execution_count": 13,
     "metadata": {},
     "output_type": "execute_result"
    }
   ],
   "source": [
    "# number of characters to write all cities\n",
    "sum(len(city) for city in list_cities)"
   ]
  },
  {
   "cell_type": "code",
   "execution_count": 14,
   "id": "977c9b61-f218-4673-9dca-3c7a50fbd2c0",
   "metadata": {
    "tags": []
   },
   "outputs": [
    {
     "data": {
      "text/plain": [
       "(True, False, True)"
      ]
     },
     "execution_count": 14,
     "metadata": {},
     "output_type": "execute_result"
    }
   ],
   "source": [
    "city = \"Toulouse\"\n",
    "city.startswith(\"T\"), \\\n",
    "city.endswith(\"i\"), \\\n",
    "\"ou\" in city\n",
    "# \\ permet d'avoir une continuité de ligne"
   ]
  },
  {
   "cell_type": "code",
   "execution_count": 15,
   "id": "5f02047a-d142-407c-bb15-02df31d4d346",
   "metadata": {
    "tags": []
   },
   "outputs": [
    {
     "data": {
      "text/plain": [
       "<function re.search(pattern, string, flags=0)>"
      ]
     },
     "execution_count": 15,
     "metadata": {},
     "output_type": "execute_result"
    }
   ],
   "source": [
    "re.match # Compare le début\n",
    "re.fullmatch # Compare toute la chaine de caractères\n",
    "re.search # Recherche n'importe où"
   ]
  },
  {
   "cell_type": "code",
   "execution_count": 16,
   "id": "07277d19-e010-407a-a95f-56f3659abbe5",
   "metadata": {
    "tags": []
   },
   "outputs": [
    {
     "data": {
      "text/plain": [
       "<re.Match object; span=(0, 8), match='Toulouse'>"
      ]
     },
     "execution_count": 16,
     "metadata": {},
     "output_type": "execute_result"
    }
   ],
   "source": [
    "re.match(r\"T.*e\", city)\n",
    "# On teste le pattern T au début, e à la fin et .* pour n nombre de caractères\n",
    "# renvoie un objet re"
   ]
  },
  {
   "cell_type": "code",
   "execution_count": 17,
   "id": "47312f16-4f6a-4721-a3eb-f5d3db4c0477",
   "metadata": {
    "tags": []
   },
   "outputs": [
    {
     "data": {
      "text/plain": [
       "True"
      ]
     },
     "execution_count": 17,
     "metadata": {},
     "output_type": "execute_result"
    }
   ],
   "source": [
    "re.fullmatch(r\"[a-z]+\", city) is None\n",
    "# [a - z] = intervalle entre a et z\n",
    "# + = on impose au moins 1 caractère\n",
    "# is None permet d'avoir un retour de fullmatch. Sans is None, pas de retour car le retour est None"
   ]
  },
  {
   "cell_type": "code",
   "execution_count": 18,
   "id": "0db5db59-c182-47af-a220-0c205b18bac1",
   "metadata": {
    "tags": []
   },
   "outputs": [
    {
     "name": "stdout",
     "output_type": "stream",
     "text": [
      "match\n"
     ]
    }
   ],
   "source": [
    "if re.fullmatch(r\"[a-z]+\", city) is None:\n",
    "    print(\"match\")\n",
    "else:\n",
    "    print(\"no match\")"
   ]
  },
  {
   "cell_type": "code",
   "execution_count": 19,
   "id": "24cdfa46-8bdd-46e1-b104-412d486f61c7",
   "metadata": {
    "tags": []
   },
   "outputs": [
    {
     "data": {
      "text/plain": [
       "<re.Match object; span=(0, 8), match='Toulouse'>"
      ]
     },
     "execution_count": 19,
     "metadata": {},
     "output_type": "execute_result"
    }
   ],
   "source": [
    "re.fullmatch(r\"[a-z]+\", city, flags=re.I)\n",
    "# le flag le rend insensible à la casse"
   ]
  },
  {
   "cell_type": "code",
   "execution_count": 20,
   "id": "38a7eb15-5cc9-47e4-a75b-79b176685e20",
   "metadata": {
    "tags": []
   },
   "outputs": [
    {
     "data": {
      "text/plain": [
       "19"
      ]
     },
     "execution_count": 20,
     "metadata": {},
     "output_type": "execute_result"
    }
   ],
   "source": [
    "# number of characters to write all cities + only latin characters\n",
    "sum(len(city) for city in list_cities if re.fullmatch(r\"[a-z]+\", city, flags=re.I))"
   ]
  },
  {
   "cell_type": "code",
   "execution_count": null,
   "id": "f4fadb30-da80-4922-8f93-4a3ba4c924dc",
   "metadata": {},
   "outputs": [],
   "source": []
  }
 ],
 "metadata": {
  "kernelspec": {
   "display_name": "Python 3 (ipykernel)",
   "language": "python",
   "name": "python3"
  },
  "language_info": {
   "codemirror_mode": {
    "name": "ipython",
    "version": 3
   },
   "file_extension": ".py",
   "mimetype": "text/x-python",
   "name": "python",
   "nbconvert_exporter": "python",
   "pygments_lexer": "ipython3",
   "version": "3.11.7"
  }
 },
 "nbformat": 4,
 "nbformat_minor": 5
}
